{
 "cells": [
  {
   "cell_type": "markdown",
   "metadata": {},
   "source": [
    "library"
   ]
  },
  {
   "cell_type": "code",
   "execution_count": 2,
   "metadata": {},
   "outputs": [],
   "source": [
    "import requests\n",
    "from bs4 import BeautifulSoup\n",
    "import pandas as pd\n",
    "import time\n",
    "import os\n",
    "from urllib.parse import urlparse, unquote"
   ]
  },
  {
   "cell_type": "markdown",
   "metadata": {},
   "source": [
    "Scrape documents link and write as CSV the download link. Two separate requests. "
   ]
  },
  {
   "cell_type": "code",
   "execution_count": null,
   "metadata": {},
   "outputs": [],
   "source": [
    "\n",
    "\n",
    "\n",
    "csv_path = \"C:\\\\Users\\\\david\\\\My Drive\\\\data\\\\analysis_git_data\\\\cgiar\\\\gcf_projects.csv\"\n",
    "\n",
    "\n",
    "df_urls = pd.read_csv(csv_path)\n",
    "\n",
    "\n",
    "all_data = []\n",
    "\n",
    "\n",
    "start_time = time.time()\n",
    "\n",
    "\n",
    "for index, row in df_urls.iterrows():\n",
    "    url_start_time = time.time()  \n",
    "    project_url = row['url']\n",
    "    project_code = project_url.split('/')[-1]  \n",
    "\n",
    "    response = requests.get(project_url)\n",
    "\n",
    "    if response.status_code == 200:\n",
    "        soup = BeautifulSoup(response.text, 'html.parser')\n",
    "        table = soup.select_one('.content-container .view-content > table')\n",
    "\n",
    "        if table:\n",
    "            rows = table.find('tbody').find_all('tr') if table.find('tbody') else []\n",
    "            for row in rows:\n",
    "                url_extension = row.find('a')['href'] if row.find('a') else 'N/A'\n",
    "                full_url = \"https://www.greenclimate.fund\" + url_extension\n",
    "                name = row.find('a').text.strip() if row.find('a') else 'N/A'\n",
    "                doc_type = row.find('td', {'data-header': 'Type'}).text.strip() if row.find('td', {'data-header': 'Type'}) else 'N/A'\n",
    "                date = row.find('td', {'data-header': 'Date'}).text.strip() if row.find('td', {'data-header': 'Date'}) else 'N/A'\n",
    "                \n",
    "                all_data.append({\n",
    "                    'Project Code': project_code,\n",
    "                    'URL': full_url,\n",
    "                    'Name': name,\n",
    "                    'Type': doc_type,\n",
    "                    'Date': date\n",
    "                })\n",
    "    \n",
    "    \n",
    "    url_end_time = time.time()\n",
    "    print(f\"Scraped {project_url} in {url_end_time - url_start_time:.2f} seconds.\")\n",
    "\n",
    "\n",
    "df_final = pd.DataFrame(all_data)\n",
    "\n",
    "\n",
    "total_time = time.time() - start_time\n",
    "print(f\"Total Processing Time: {total_time:.2f} seconds\")\n",
    "\n",
    "\n",
    "df_final.to_csv('C:\\\\Users\\\\david\\\\My Drive\\\\data\\\\analysis_git_data\\\\cgiar\\\\gcf_project_details.csv', index=False)\n",
    "\n",
    "\n",
    "\n",
    "\n",
    "for index, row in df_final.iterrows():\n",
    "    document_url = row['URL']\n",
    "    try:\n",
    "        response = requests.get(document_url, timeout=10)  \n",
    "        if response.status_code == 200:\n",
    "            \n",
    "            soup = BeautifulSoup(response.text, 'html.parser')\n",
    "            download_link = soup.find('a', class_='btn btn-primary btn-block text-left p-3 mt-6')\n",
    "            if download_link:\n",
    "                \n",
    "                download_url = download_link['href']\n",
    "                \n",
    "                df_final.at[index, 'download_url'] = download_url\n",
    "                print(f\"Processed {document_url} - Download URL added.\")\n",
    "            else:\n",
    "                print(f\"No download link found for {document_url}\")\n",
    "        else:\n",
    "            print(f\"Failed to fetch {document_url}, status code: {response.status_code}\")\n",
    "    except requests.RequestException as e:\n",
    "        print(f\"Request failed for {document_url}, error: {e}\")\n",
    "\n",
    "\n",
    "df_final.to_csv('C:\\\\Users\\\\david\\\\My Drive\\\\data\\\\analysis_git_data\\\\cgiar\\\\gcf_project_details_download.csv', index=False)\n"
   ]
  },
  {
   "cell_type": "markdown",
   "metadata": {},
   "source": [
    "//TODO : Some projects do not have documentation. Check with Cesare to determine if extracting text directly from the page is necessary. Below are the project IDs with no documentation."
   ]
  },
  {
   "cell_type": "code",
   "execution_count": 5,
   "metadata": {},
   "outputs": [
    {
     "name": "stdout",
     "output_type": "stream",
     "text": [
      "['FP225', 'FP226', 'FP227', 'FP228', 'FP229', 'FP230', 'FP231', 'SAP034', 'SAP035', 'SAP036', 'SAP037']\n"
     ]
    }
   ],
   "source": [
    "all_data_path = 'C:\\\\Users\\\\david\\\\My Drive\\\\data\\\\analysis_git_data\\\\cgiar\\\\gcf_project_details.csv'\n",
    "df_urls_path = 'C:\\\\Users\\\\david\\\\My Drive\\\\data\\\\analysis_git_data\\\\cgiar\\\\gcf_projects.csv'\n",
    "\n",
    "all_data = pd.read_csv(all_data_path)\n",
    "df_urls = pd.read_csv(df_urls_path)\n",
    "\n",
    "codes_not_in_all_data = df_urls[~df_urls['Ref #'].isin(all_data['Project Code'])]['Ref #']\n",
    "\n",
    "\n",
    "list_of_codes_not_in_all_data = codes_not_in_all_data.tolist()\n",
    "\n",
    "\n",
    "print(list_of_codes_not_in_all_data)"
   ]
  },
  {
   "cell_type": "markdown",
   "metadata": {},
   "source": [
    "Donwload and organize all pdf. Change folder in save path. You need to read CSV file gcf_project_details_download"
   ]
  },
  {
   "cell_type": "code",
   "execution_count": null,
   "metadata": {},
   "outputs": [],
   "source": [
    "\n",
    "\n",
    "csv_path = 'C:\\\\Users\\\\david\\\\My Drive\\\\data\\\\analysis_git_data\\\\cgiar\\\\gcf_project_details_download.csv'\n",
    "\n",
    "df_final = pd.read_csv(csv_path)\n",
    "\n",
    "save_path = \"C:\\\\Users\\\\david\\\\My Drive\\\\data\\\\analysis_git_data\\\\cgiar\\\\gcf_docs\"\n",
    "\n",
    "os.makedirs(save_path, exist_ok=True)\n",
    "\n",
    "for index, row in df_final.iterrows():\n",
    "    download_url = row['download_url']\n",
    "    project_code = row['Project Code']\n",
    "    \n",
    "\n",
    "    file_name = unquote(urlparse(download_url).path.split('/')[-1])\n",
    "    save_file_name = f\"{project_code}_{file_name}\"\n",
    "    full_path = os.path.join(save_path, save_file_name)\n",
    "    \n",
    "    # CHECK IF ALREADY DOWNLOADED THE FILE. ISSUE WHEN DOWNLOADING STOP. \n",
    "    if os.path.exists(full_path):\n",
    "        print(f\"{save_file_name} already exists. Skipping download.\")\n",
    "        continue\n",
    "\n",
    "    try:\n",
    "        with requests.get(download_url, stream=True) as r:\n",
    "            r.raise_for_status()\n",
    "            \n",
    "            with open(full_path, 'wb') as f:\n",
    "                for chunk in r.iter_content(chunk_size=8192):\n",
    "                    f.write(chunk)\n",
    "                    \n",
    "        print(f\"Downloaded {file_name} as {save_file_name}\")\n",
    "    except requests.HTTPError as e:\n",
    "        print(f\"Failed to download {file_name}. HTTP Error: {e}\")\n",
    "    except Exception as e:\n",
    "        print(f\"Failed to download {file_name}. Error: {e}\")\n"
   ]
  }
 ],
 "metadata": {
  "kernelspec": {
   "display_name": "Python 3",
   "language": "python",
   "name": "python3"
  },
  "language_info": {
   "codemirror_mode": {
    "name": "ipython",
    "version": 3
   },
   "file_extension": ".py",
   "mimetype": "text/x-python",
   "name": "python",
   "nbconvert_exporter": "python",
   "pygments_lexer": "ipython3",
   "version": "3.11.2"
  }
 },
 "nbformat": 4,
 "nbformat_minor": 2
}
