{
 "cells": [
  {
   "cell_type": "markdown",
   "metadata": {},
   "source": [
    "Folder Path and libraries"
   ]
  },
  {
   "cell_type": "code",
   "execution_count": null,
   "metadata": {},
   "outputs": [],
   "source": [
    "import pandas as pd\n",
    "import re\n",
    "import os\n",
    "import pandas as pd\n",
    "import datetime\n",
    "\n",
    "#CONST\n",
    "\n",
    "folder_path = r\"C:\\Users\\david\\My Drive\\data\\analysis_git_data\\cgiar\""
   ]
  },
  {
   "cell_type": "markdown",
   "metadata": {},
   "source": [
    "1. Adaptation Fund"
   ]
  },
  {
   "cell_type": "markdown",
   "metadata": {},
   "source": [
    "Add the project number to the original CSV file downloaded from the 'adaptation_fund_path' website. Also, identify projects listed on the website that have no corresponding documents in 'AF_projects_not_in_documents'. Date files indicate when the data collection. \n",
    "\n",
    "//TODO : Check with Cesare if AF_projects_not_in_documents needed for the analysis"
   ]
  },
  {
   "cell_type": "code",
   "execution_count": 21,
   "metadata": {},
   "outputs": [
    {
     "name": "stderr",
     "output_type": "stream",
     "text": [
      "C:\\Users\\david\\AppData\\Local\\Temp\\ipykernel_20324\\4135158987.py:36: SettingWithCopyWarning: \n",
      "A value is trying to be set on a copy of a slice from a DataFrame.\n",
      "Try using .loc[row_indexer,col_indexer] = value instead\n",
      "\n",
      "See the caveats in the documentation: https://pandas.pydata.org/pandas-docs/stable/user_guide/indexing.html#returning-a-view-versus-a-copy\n",
      "  df_joined_notna['org'] = 'AF'\n",
      "C:\\Users\\david\\AppData\\Local\\Temp\\ipykernel_20324\\4135158987.py:37: SettingWithCopyWarning: \n",
      "A value is trying to be set on a copy of a slice from a DataFrame\n",
      "\n",
      "See the caveats in the documentation: https://pandas.pydata.org/pandas-docs/stable/user_guide/indexing.html#returning-a-view-versus-a-copy\n",
      "  df_joined_notna.rename(columns={'projecturl': 'url', 'grantamount':'grant_amount', 'projecttitle': 'title', 'ie':'entity'}, inplace=True) #rename for consistency with master // TODO:check with Cesare if BM is status.\n"
     ]
    }
   ],
   "source": [
    "import pandas as pd\n",
    "import datetime\n",
    "\n",
    "# Paths to your CSV files\n",
    "\n",
    "adaptation_fund_path = os.path.join(folder_path, \"scraping_processing_stage\", \"AF_20240403.csv\")  #the file downloaded as csv from ADF\n",
    "project_documents_path = os.path.join(folder_path, \"scraping_processing_stage\", \"AF_project_documents_links_with_titles_unique.csv\")\n",
    "\n",
    "\n",
    "\n",
    "# Read the CSV files\n",
    "df_adaptation_fund = pd.read_csv(adaptation_fund_path, on_bad_lines='skip')\n",
    "df_project_documents = pd.read_csv(project_documents_path, on_bad_lines='skip')\n",
    "\n",
    "# Ensure 'project_link' is in df_project_documents to proceed with the merge\n",
    "df_joined = pd.merge(df_adaptation_fund, df_project_documents[['project_link', 'project_title', 'document_link', 'project_no']], left_on='projecturl', right_on='project_link', how='left')\n",
    "\n",
    "    # Remove the 'project_link' column\n",
    "df_joined.drop('project_link', axis=1, inplace=True)\n",
    "\n",
    "\n",
    "current_time = datetime.datetime.now().strftime(\"%Y%m%d\")\n",
    "#find if projects no documents\n",
    "projects_not_in_documents = df_adaptation_fund[~df_adaptation_fund['projecturl'].isin(df_project_documents['project_link'])]\n",
    "filename = f\"AF_projects_not_in_documents_{current_time}.csv\"\n",
    "projects_not_in_documents.to_csv(rf\"C:\\Users\\david\\My Drive\\data\\analysis_git_data\\cgiar\\{filename}\", index=False)\n",
    "\n",
    "# drop if no project number\n",
    "\n",
    "df_joined_notna = df_joined[df_joined['project_no'].notnull()]\n",
    "#add org column for master file\n",
    "df_joined_notna['org'] = 'AF'\n",
    "df_joined_notna.rename(columns={'projecturl': 'url', 'grantamount':'grant_amount', 'projecttitle': 'title', 'ie':'entity'}, inplace=True) #rename for consistency with master // TODO:check with Cesare if BM is status.  \n",
    "\n",
    "current_time = datetime.datetime.now().strftime(\"%Y%m%d\")\n",
    "filename = f\"AF_joined_projects_{current_time}.csv\"\n",
    "\n",
    "full_path = os.path.join(folder_path, filename)\n",
    "\n",
    "df_joined_notna.to_csv(full_path, index=False)\n",
    "\n",
    "\n",
    "\n"
   ]
  },
  {
   "cell_type": "markdown",
   "metadata": {},
   "source": [
    "2. GCF "
   ]
  },
  {
   "cell_type": "code",
   "execution_count": null,
   "metadata": {},
   "outputs": [],
   "source": [
    "\n",
    "\n",
    "gcf_projects = pd.read_csv(os.path.join(folder_path, \"scraping_processing_stage\", \"gcf_projects_20240403.csv\")) #the file downloaded as csv from GCF\n",
    "gcf_projects['org'] = 'GCF'\n",
    "gcf_projects.rename(columns={'Ref #': 'project_no', 'Countries': 'country', 'Project Name': 'title', 'Sector': 'sector', 'Entity': 'entity', 'BM': 'status', 'FA Financing': 'grant_amount'}, inplace=True) #rename for consistency with master // TODO:check with Cesare if BM is status.  \n",
    "\n",
    "\n",
    "current_time = datetime.datetime.now().strftime(\"%Y%m%d\")\n",
    "filename = f\"GCF_joined_projects_{current_time}.csv\"\n",
    "file_path = os.path.join(folder_path, filename)\n",
    "\n",
    "gcf_projects.to_csv(file_path, index=False)\n"
   ]
  },
  {
   "cell_type": "markdown",
   "metadata": {},
   "source": [
    "3. GEF"
   ]
  },
  {
   "cell_type": "code",
   "execution_count": null,
   "metadata": {},
   "outputs": [],
   "source": [
    "gef_df = pd.read_csv(os.path.join(folder_path, \"gef_projects.csv\")) #the file downloaded as csv from GCF\n",
    "gef_df['org'] = 'GEF'\n",
    "gef_df.rename(columns={'ID': 'project_no', 'Countries': 'country', 'Title': 'title', 'Focal Areas': 'sector', 'Agencies': 'entity', 'GEF Grant': 'grant_amount', 'Status':'status'}, inplace=True) #rename for consistency with master\n",
    "\n",
    "current_time = datetime.datetime.now().strftime(\"%Y%m%d\")\n",
    "filename = f\"GEF_joined_projects_{current_time}.csv\"\n",
    "file_path = os.path.join(folder_path, filename)\n",
    "gef_df.to_csv(file_path, index=False)\n"
   ]
  },
  {
   "cell_type": "markdown",
   "metadata": {},
   "source": [
    "Creation of the Master file"
   ]
  },
  {
   "cell_type": "code",
   "execution_count": 16,
   "metadata": {},
   "outputs": [
    {
     "name": "stdout",
     "output_type": "stream",
     "text": [
      "Total projects from the Adaptation Fund are 147. On the website, there are 149. Missing or not in dataset: 2.\n",
      "Total projects from the GCF are 253. On the website, there are 253. Missing or not in dataset: 0.\n",
      "Total projects from the GEF are 6079. On the website, there are 6079. Missing or not in dataset: 0.\n"
     ]
    }
   ],
   "source": [
    "\n",
    "af_df = pd.read_csv(os.path.join(folder_path, \"AF_joined_projects_20240403.csv\"))\n",
    "gcf_df = pd.read_csv(os.path.join(folder_path, \"GCF_joined_projects_20240403.csv\"))\n",
    "gef_df = pd.read_csv(os.path.join(folder_path, \"GEF_joined_projects_20240403.csv\"))\n",
    "\n",
    "af_df['project_no'] = af_df['project_no'].apply(lambda x: str(int(x)) if pd.notnull(x) else None)\n",
    "gcf_df['project_no'] = gcf_df['project_no'].astype(str)\n",
    "gef_df['project_no'] = gef_df['project_no'].apply(lambda x: str(int(x)) if pd.notnull(x) else None)\n",
    "\n",
    "all_projects_df = pd.concat([af_df, gcf_df, gef_df], ignore_index=True)\n",
    "\n",
    "#order df\n",
    "desired_order = ['project_no', 'org', 'country', 'title', 'sector', 'entity', 'status', 'grant_amount']\n",
    "additional_columns = [col for col in all_projects_df.columns if col not in desired_order]\n",
    "final_column_order = desired_order + additional_columns\n",
    "\n",
    "#if you want all column add final_column_order instead of desired_order\n",
    "\n",
    "all_projects_df = all_projects_df[desired_order]\n",
    "\n",
    "current_time = datetime.datetime.now().strftime(\"%Y%m%d\")\n",
    "\n",
    "filename = f\"master_file_af_gcf_gef_{current_time}.csv\"\n",
    "\n",
    "#save as csv\n",
    "all_projects_df.to_csv(os.path.join(folder_path, filename), index=False)\n",
    "\n",
    "\n",
    "\n",
    "#CHECK final projects with website CSV content\n",
    "print(f\"Total projects from the Adaptation Fund are {len(af_df)}. On the website, there are 149. Missing or not in dataset: {149 - len(af_df)}.\")\n",
    "print(f\"Total projects from the GCF are {len(gcf_df)}. On the website, there are 253. Missing or not in dataset: {253 - len(gcf_df)}.\")\n",
    "print(f\"Total projects from the GEF are {len(gef_df)}. On the website, there are 6079. Missing or not in dataset: {6079 - len(gef_df)}.\")\n"
   ]
  }
 ],
 "metadata": {
  "kernelspec": {
   "display_name": "Python 3",
   "language": "python",
   "name": "python3"
  },
  "language_info": {
   "codemirror_mode": {
    "name": "ipython",
    "version": 3
   },
   "file_extension": ".py",
   "mimetype": "text/x-python",
   "name": "python",
   "nbconvert_exporter": "python",
   "pygments_lexer": "ipython3",
   "version": "3.11.2"
  }
 },
 "nbformat": 4,
 "nbformat_minor": 2
}
