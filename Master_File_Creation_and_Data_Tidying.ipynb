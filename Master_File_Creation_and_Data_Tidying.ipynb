{
 "cells": [
  {
   "cell_type": "markdown",
   "metadata": {},
   "source": [
    "Folder Path and libraries"
   ]
  },
  {
   "cell_type": "code",
   "execution_count": 16,
   "metadata": {},
   "outputs": [],
   "source": [
    "import pandas as pd\n",
    "import re\n",
    "import os\n",
    "import pandas as pd\n",
    "import datetime\n",
    "\n",
    "#CONST\n",
    "\n",
    "folder_path = r\"D:\\data\\CGIAR\\UNFCCC\""
   ]
  },
  {
   "cell_type": "markdown",
   "metadata": {},
   "source": [
    "1. Adaptation Fund"
   ]
  },
  {
   "cell_type": "markdown",
   "metadata": {},
   "source": [
    "Add the project number to the original CSV file downloaded from the 'adaptation_fund_path' website. Also, identify projects listed on the website that have no corresponding documents in 'AF_projects_not_in_documents'. Date files indicate when the data collection. \n"
   ]
  },
  {
   "cell_type": "code",
   "execution_count": 7,
   "metadata": {},
   "outputs": [
    {
     "name": "stderr",
     "output_type": "stream",
     "text": [
      "C:\\Users\\david\\AppData\\Local\\Temp\\ipykernel_10076\\992744980.py:32: SettingWithCopyWarning: \n",
      "A value is trying to be set on a copy of a slice from a DataFrame.\n",
      "Try using .loc[row_indexer,col_indexer] = value instead\n",
      "\n",
      "See the caveats in the documentation: https://pandas.pydata.org/pandas-docs/stable/user_guide/indexing.html#returning-a-view-versus-a-copy\n",
      "  df_joined_notna['org'] = 'AF'\n",
      "C:\\Users\\david\\AppData\\Local\\Temp\\ipykernel_10076\\992744980.py:33: SettingWithCopyWarning: \n",
      "A value is trying to be set on a copy of a slice from a DataFrame\n",
      "\n",
      "See the caveats in the documentation: https://pandas.pydata.org/pandas-docs/stable/user_guide/indexing.html#returning-a-view-versus-a-copy\n",
      "  df_joined_notna.rename(columns={'projecturl': 'url', 'grantamount':'grant_amount', 'projecttitle': 'title', 'ie':'entity', 'fy_approval':'year'}, inplace=True) #rename for consistency with master // TODO:check with Cesare if BM is status.\n",
      "C:\\Users\\david\\AppData\\Local\\Temp\\ipykernel_10076\\992744980.py:35: SettingWithCopyWarning: \n",
      "A value is trying to be set on a copy of a slice from a DataFrame.\n",
      "Try using .loc[row_indexer,col_indexer] = value instead\n",
      "\n",
      "See the caveats in the documentation: https://pandas.pydata.org/pandas-docs/stable/user_guide/indexing.html#returning-a-view-versus-a-copy\n",
      "  df_joined_notna['theme'] = 'Adaptation'\n"
     ]
    }
   ],
   "source": [
    "import pandas as pd\n",
    "import datetime\n",
    "\n",
    "# Paths to your CSV files\n",
    "\n",
    "adaptation_fund_path = os.path.join(folder_path, \"processing_stage_movebackmain\", \"AF_20240403.csv\")  #the file downloaded as csv from ADF\n",
    "project_documents_path = os.path.join(folder_path, \"processing_stage_movebackmain\", \"AF_project_documents_links_with_titles_unique.csv\")\n",
    "\n",
    "\n",
    "\n",
    "# Read the CSV files\n",
    "df_adaptation_fund = pd.read_csv(adaptation_fund_path, on_bad_lines='skip',encoding='utf-8')\n",
    "df_project_documents = pd.read_csv(project_documents_path, on_bad_lines='skip',encoding='utf-8')\n",
    "\n",
    "# Ensure 'project_link' is in df_project_documents to proceed with the merge\n",
    "df_joined = pd.merge(df_adaptation_fund, df_project_documents[['project_link', 'project_title', 'document_link', 'project_no']], left_on='projecturl', right_on='project_link', how='left')\n",
    "\n",
    "    # Remove the 'project_link' column\n",
    "df_joined.drop('project_link', axis=1, inplace=True)\n",
    "\n",
    "\n",
    "current_time = datetime.datetime.now().strftime(\"%Y%m%d\")\n",
    "#find if projects no documents\n",
    "projects_not_in_documents = df_adaptation_fund[~df_adaptation_fund['projecturl'].isin(df_project_documents['project_link'])]\n",
    "filename = f\"AF_projects_not_in_documents_{current_time}.csv\"\n",
    "projects_not_in_documents.to_csv(rf\"C:\\Users\\david\\My Drive\\data\\analysis_git_data\\cgiar\\{filename}\", index=False)\n",
    "\n",
    "# drop if no project number\n",
    "\n",
    "df_joined_notna = df_joined[df_joined['project_no'].notnull()]\n",
    "#add org column for master file\n",
    "df_joined_notna['org'] = 'AF'\n",
    "df_joined_notna.rename(columns={'projecturl': 'url', 'grantamount':'grant_amount', 'projecttitle': 'title', 'ie':'entity', 'fy_approval':'year'}, inplace=True) #rename for consistency with master // TODO:check with Cesare if BM is status.  \n",
    "\n",
    "df_joined_notna['theme'] = 'Adaptation'\n",
    "\n",
    "current_time = datetime.datetime.now().strftime(\"%Y%m%d\")\n",
    "filename = f\"AF_joined_projects_{current_time}.csv\"\n",
    "\n",
    "full_path = os.path.join(folder_path, filename)\n",
    "\n",
    "df_joined_notna.to_csv(full_path, index=False,encoding='utf-8')\n",
    "\n",
    "\n",
    "\n"
   ]
  },
  {
   "cell_type": "markdown",
   "metadata": {},
   "source": [
    "2. GCF "
   ]
  },
  {
   "cell_type": "code",
   "execution_count": 8,
   "metadata": {},
   "outputs": [],
   "source": [
    "\n",
    "\n",
    "gcf_projects = pd.read_csv(os.path.join(folder_path, \"processing_stage_movebackmain\", \"gcf_projects_20240403.csv\"),encoding='utf-8') #the file downloaded as csv from GCF\n",
    "gcf_projects['org'] = 'GCF'\n",
    "gcf_projects.rename(columns={'Ref #': 'project_no', 'Countries': 'country', 'Project Name': 'title', 'Sector': 'sector', 'Entity': 'entity', 'BM': 'year', 'FA Financing': 'grant_amount', 'Theme': 'theme'}, inplace=True) #rename for consistency with master // TODO:check with Cesare if BM is status.  \n",
    "\n",
    "\n",
    "current_time = datetime.datetime.now().strftime(\"%Y%m%d\")\n",
    "filename = f\"GCF_joined_projects_{current_time}.csv\"\n",
    "file_path = os.path.join(folder_path, filename)\n",
    "\n",
    "gcf_projects.to_csv(file_path, index=False,encoding='utf-8')\n"
   ]
  },
  {
   "cell_type": "markdown",
   "metadata": {},
   "source": [
    "3. GEF"
   ]
  },
  {
   "cell_type": "code",
   "execution_count": 9,
   "metadata": {},
   "outputs": [],
   "source": [
    "gef_df = pd.read_csv(os.path.join(folder_path, \"processing_stage_movebackmain\", \"gef_projects.csv\"),encoding='utf-8') #the file downloaded as csv from GEF with filter climate change\n",
    "gef_df['org'] = 'GEF'\n",
    "gef_df.rename(columns={'ID': 'project_no', 'Countries': 'country', 'Title': 'title', 'Focal Areas': 'sector', 'Agencies': 'entity', 'GEF Grant': 'grant_amount', 'Status':'status', 'Approval FY': 'year'}, inplace=True) #rename for consistency with master\n",
    "\n",
    "base_url = 'https://www.thegef.org/projects-operations/projects/'\n",
    "\n",
    "gef_df['url'] = gef_df['project_no'].apply(lambda x: base_url + str(x))\n",
    "\n",
    "\n",
    "gef_df['theme'] = 'NA'\n",
    "\n",
    "\n",
    "\n",
    "current_time = datetime.datetime.now().strftime(\"%Y%m%d\")\n",
    "filename = f\"GEF_joined_projects_{current_time}.csv\"\n",
    "file_path = os.path.join(folder_path, filename)\n",
    "gef_df.to_csv(file_path, index=False,encoding='utf-8')\n"
   ]
  },
  {
   "cell_type": "markdown",
   "metadata": {},
   "source": [
    "Creation of the Master file"
   ]
  },
  {
   "cell_type": "code",
   "execution_count": 45,
   "metadata": {},
   "outputs": [
    {
     "name": "stdout",
     "output_type": "stream",
     "text": [
      "Count of None in 'country_iso3': 137\n",
      "Count of None in 'country_iso3': 112\n"
     ]
    },
    {
     "name": "stderr",
     "output_type": "stream",
     "text": [
      "C:\\Users\\david\\AppData\\Local\\Temp\\ipykernel_11944\\2055983589.py:115: SettingWithCopyWarning: \n",
      "A value is trying to be set on a copy of a slice from a DataFrame.\n",
      "Try using .loc[row_indexer,col_indexer] = value instead\n",
      "\n",
      "See the caveats in the documentation: https://pandas.pydata.org/pandas-docs/stable/user_guide/indexing.html#returning-a-view-versus-a-copy\n",
      "  filtered_df['country_iso3'] = filtered_df['title'].apply(extract_countries_to_iso3)\n"
     ]
    },
    {
     "name": "stdout",
     "output_type": "stream",
     "text": [
      "Total projects from the Adaptation Fund are 147. On the website, there are 149. Missing or not in dataset: 2.\n",
      "Total projects from the GCF are 253. On the website, there are 253. Missing or not in dataset: 0.\n",
      "Total projects from the GEF are 2402. On the website, there are 2402. Missing or not in dataset: 0.\n"
     ]
    }
   ],
   "source": [
    "import pandas as pd\n",
    "import pycountry\n",
    "from unidecode import unidecode\n",
    "import re\n",
    "import datetime\n",
    "import os\n",
    "\n",
    "# Load the CSV file with UTF-8 encoding\n",
    "data = pd.read_csv(\"D:\\\\data\\\\CGIAR\\\\UNFCCC\\\\master_file_af_gcf_gef_20240506.csv\", encoding='utf-8')\n",
    "\n",
    "# Extended mapping for normalizing country names and their ISO3 codes\n",
    "country_normalization_mapping = {\n",
    "    'Libyan Arab Jamahiriya': 'Libya',\n",
    "    'Côte d’Ivoire': 'CIV',\n",
    "    'Cote d\\'Ivoire': 'CIV',\n",
    "    'C&ocirc;te d\\'Ivoire':'CIV',\n",
    "    'Micronesia, Federated States of': 'FSM',\n",
    "    'Micronesia (Federated States of)': 'FSM',\n",
    "    'Micronesia': 'FSM',\n",
    "    'Comoros (the)': 'Comoros',\n",
    "    'Democratic Republic of the Congo (the)': 'COD',\n",
    "    'Lao People\\'s Democratic Republic (the)': 'LAO',\n",
    "    'State of Palestine': 'PSE',\n",
    "    'Niger (the)': 'NER',\n",
    "    'Philippines (the)': 'PHL',\n",
    "    'Bolivia (Plurinational State of)': 'BOL',\n",
    "    'Lao PDR': 'LAO',\n",
    "    'Timor Leste': 'TLS',\n",
    "    'Congo DR': 'COD',\n",
    "    'Bosnia-Herzegovina': 'BIH',\n",
    "    'Africa, Regional': 'AFR',\n",
    "    'St. Kitts And Nevis': 'KNA',\n",
    "    'St. Lucia': 'LCA',\n",
    "    'St. Vincent and Grenadines': 'VCT',\n",
    "    'Korea DPR': 'PRK',\n",
    "    'Regional, Timor Leste': 'Regional, Timor-Leste',\n",
    "    'Regional, Bosnia-Herzegovina': 'Regional, Bosnia and Herzegovina',\n",
    "    'Regional, Micronesia': 'Regional, Micronesia (Federated States of)',\n",
    "    'Regional, Cote d\\'Ivoire': 'Regional, CIV',\n",
    "    'Regional, St. Lucia': 'Regional, Saint Lucia',\n",
    "    'Cote d\\'Ivoire, Global': 'CIV, Global',\n",
    "    'Turkiye': 'TUR',\n",
    "}\n",
    "\n",
    "# Normalize country names\n",
    "def normalize_country_name(country_name):\n",
    "    # Handle prefixes like 'Regional,'\n",
    "    prefixes = ['Regional,', 'Global,']\n",
    "    for prefix in prefixes:\n",
    "        if country_name.startswith(prefix):\n",
    "            base_name = country_name[len(prefix):].strip()\n",
    "            normalized_base_name = country_normalization_mapping.get(base_name, base_name)\n",
    "            return f'{prefix} {normalized_base_name}'\n",
    "    \n",
    "    # Handle multiple countries\n",
    "    if ',' in country_name:\n",
    "        countries = country_name.split(',')\n",
    "        normalized_countries = [country_normalization_mapping.get(country.strip(), country.strip()) for country in countries]\n",
    "        return ', '.join(normalized_countries)\n",
    "    \n",
    "    # Single country\n",
    "    normalized_name = country_normalization_mapping.get(country_name, country_name)\n",
    "    return unidecode(normalized_name)\n",
    "\n",
    "# Apply the normalization function to the 'country' column\n",
    "data['country'] = data['country'].apply(normalize_country_name)\n",
    "\n",
    "# Function to get ISO3 code\n",
    "def get_iso3(country_name):\n",
    "    if country_name in country_normalization_mapping:\n",
    "        return country_normalization_mapping[country_name]\n",
    "    try:\n",
    "        return pycountry.countries.lookup(country_name).alpha_3\n",
    "    except LookupError:\n",
    "        return None\n",
    "\n",
    "# Handle multiple country names in a cell\n",
    "def convert_countries_to_iso3(countries):\n",
    "    if ',' in countries:\n",
    "        # Split the countries and convert each one\n",
    "        country_list = countries.split(',')\n",
    "        iso3_list = [get_iso3(country.strip()) for country in country_list]\n",
    "        return ', '.join([code for code in iso3_list if code])\n",
    "    else:\n",
    "        # Single country\n",
    "        return get_iso3(countries)\n",
    "\n",
    "data['country_iso3'] = data['country'].apply(convert_countries_to_iso3)\n",
    "\n",
    "# Counting None values in the 'country_iso3' column\n",
    "none_count = data['country_iso3'].isna().sum()\n",
    "print(\"Count of None in 'country_iso3':\", none_count)\n",
    "\n",
    "# Function to extract country names and convert to ISO3\n",
    "def extract_countries_to_iso3(title):\n",
    "    # Patterns to extract country names\n",
    "    pattern = r'\\b(?:[A-Z][a-z]+(?:\\s+[A-Z][a-z]+)*)\\b'\n",
    "    \n",
    "    matches = re.findall(pattern, title)\n",
    "    \n",
    "    # Filter out words that are not country names\n",
    "    country_names = []\n",
    "    for name in matches:\n",
    "        try:\n",
    "            country = pycountry.countries.lookup(name)\n",
    "            country_names.append(country.alpha_3)\n",
    "        except LookupError:\n",
    "            continue\n",
    "    \n",
    "    # Join the ISO3 codes as a comma-separated string\n",
    "    return ', '.join(country_names) if country_names else None\n",
    "\n",
    "filtered_df = data[data['country_iso3'].isna() | data['country_iso3'].eq('')]\n",
    "# Apply the function to the entire DataFrame\n",
    "filtered_df['country_iso3'] = filtered_df['title'].apply(extract_countries_to_iso3)\n",
    "\n",
    "# Merge filtered_df back to the original data DataFrame\n",
    "data.update(filtered_df[['country_iso3']])\n",
    "# Counting None values in the 'country_iso3' column\n",
    "none_count = data['country_iso3'].isna().sum()\n",
    "print(\"Count of None in 'country_iso3':\", none_count)\n",
    "\n",
    "current_time = datetime.datetime.now().strftime(\"%Y%m%d\")\n",
    "data.to_csv(\"D:\\\\data\\\\CGIAR\\\\UNFCCC\\\\master.csv\", index=False, encoding='utf-8')\n",
    "\n",
    "#check for the files\n",
    "\n",
    "af_df = pd.read_csv(os.path.join(folder_path, \"AF_joined_projects_20240517.csv\"), encoding='utf-8')\n",
    "gcf_df = pd.read_csv(os.path.join(folder_path, \"GCF_joined_projects_20240517.csv\"), encoding='utf-8')\n",
    "gef_df = pd.read_csv(os.path.join(folder_path, \"GEF_joined_projects_20240517.csv\"), encoding='utf-8')\n",
    "\n",
    "print(f\"Total projects from the Adaptation Fund are {len(af_df)}. On the website, there are 149. Missing or not in dataset: {149 - len(af_df)}.\")\n",
    "print(f\"Total projects from the GCF are {len(gcf_df)}. On the website, there are 253. Missing or not in dataset: {253 - len(gcf_df)}.\")\n",
    "print(f\"Total projects from the GEF are {len(gef_df)}. On the website, there are 2402. Missing or not in dataset: {2402 - len(gef_df)}.\")"
   ]
  }
 ],
 "metadata": {
  "kernelspec": {
   "display_name": "Python 3",
   "language": "python",
   "name": "python3"
  },
  "language_info": {
   "codemirror_mode": {
    "name": "ipython",
    "version": 3
   },
   "file_extension": ".py",
   "mimetype": "text/x-python",
   "name": "python",
   "nbconvert_exporter": "python",
   "pygments_lexer": "ipython3",
   "version": "3.12.2"
  }
 },
 "nbformat": 4,
 "nbformat_minor": 2
}
